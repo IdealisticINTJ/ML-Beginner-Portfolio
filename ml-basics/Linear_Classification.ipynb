{
  "nbformat": 4,
  "nbformat_minor": 0,
  "metadata": {
    "colab": {
      "name": "Untitled5.ipynb",
      "provenance": [],
      "authorship_tag": "ABX9TyMXSqNoMs/mw4Zv6TL4v7PI",
      "include_colab_link": true
    },
    "kernelspec": {
      "name": "python3",
      "display_name": "Python 3"
    },
    "language_info": {
      "name": "python"
    }
  },
  "cells": [
    {
      "cell_type": "markdown",
      "metadata": {
        "id": "view-in-github",
        "colab_type": "text"
      },
      "source": [
        "<a href=\"https://colab.research.google.com/github/IdealisticINTJ/ubiquitous-broccoli/blob/main/Linear_Classifier.ipynb\" target=\"_parent\"><img src=\"https://colab.research.google.com/assets/colab-badge.svg\" alt=\"Open In Colab\"/></a>"
      ]
    },
    {
      "cell_type": "code",
      "metadata": {
        "colab": {
          "base_uri": "https://localhost:8080/"
        },
        "id": "lxJlu3tVbGqU",
        "outputId": "367110a5-3abf-4c1d-d850-ae4d7687e110"
      },
      "source": [
        "# Install Tensorflow\n",
        "import tensorflow as tf\n",
        "print(tf.__version__)"
      ],
      "execution_count": 1,
      "outputs": [
        {
          "output_type": "stream",
          "text": [
            "2.4.1\n"
          ],
          "name": "stdout"
        }
      ]
    },
    {
      "cell_type": "code",
      "metadata": {
        "id": "0vyN5goqbMHU"
      },
      "source": [
        "# Load in the data\n",
        "from sklearn.datasets import load_breast_cancer"
      ],
      "execution_count": 2,
      "outputs": []
    },
    {
      "cell_type": "code",
      "metadata": {
        "id": "pPx6qVbibPCQ"
      },
      "source": [
        "# load the data\n",
        "data = load_breast_cancer()"
      ],
      "execution_count": 3,
      "outputs": []
    },
    {
      "cell_type": "code",
      "metadata": {
        "colab": {
          "base_uri": "https://localhost:8080/"
        },
        "id": "jCBVjOtmbR9u",
        "outputId": "7093774d-c7e1-4b33-99ac-592a1542dd32"
      },
      "source": [
        "# Check the type of 'data'\n",
        "type(data)"
      ],
      "execution_count": 4,
      "outputs": [
        {
          "output_type": "execute_result",
          "data": {
            "text/plain": [
              "sklearn.utils.Bunch"
            ]
          },
          "metadata": {
            "tags": []
          },
          "execution_count": 4
        }
      ]
    },
    {
      "cell_type": "code",
      "metadata": {
        "colab": {
          "base_uri": "https://localhost:8080/"
        },
        "id": "A3j8sM8fbWQV",
        "outputId": "f0b332ef-7e7a-424a-ddce-827800734a80"
      },
      "source": [
        "data.keys()"
      ],
      "execution_count": 5,
      "outputs": [
        {
          "output_type": "execute_result",
          "data": {
            "text/plain": [
              "dict_keys(['data', 'target', 'target_names', 'DESCR', 'feature_names', 'filename'])"
            ]
          },
          "metadata": {
            "tags": []
          },
          "execution_count": 5
        }
      ]
    },
    {
      "cell_type": "code",
      "metadata": {
        "colab": {
          "base_uri": "https://localhost:8080/"
        },
        "id": "bsnouQWhba3y",
        "outputId": "d2c4ceb7-c645-42d9-e81b-b0543f6a41be"
      },
      "source": [
        "# 'Data' (the attribute) means the input data\n",
        "data.data.shape"
      ],
      "execution_count": 6,
      "outputs": [
        {
          "output_type": "execute_result",
          "data": {
            "text/plain": [
              "(569, 30)"
            ]
          },
          "metadata": {
            "tags": []
          },
          "execution_count": 6
        }
      ]
    },
    {
      "cell_type": "code",
      "metadata": {
        "colab": {
          "base_uri": "https://localhost:8080/"
        },
        "id": "UcPCXQelbgRX",
        "outputId": "a12ec4bb-d25c-4543-fb61-517e8e00c942"
      },
      "source": [
        "data.target"
      ],
      "execution_count": 7,
      "outputs": [
        {
          "output_type": "execute_result",
          "data": {
            "text/plain": [
              "array([0, 0, 0, 0, 0, 0, 0, 0, 0, 0, 0, 0, 0, 0, 0, 0, 0, 0, 0, 1, 1, 1,\n",
              "       0, 0, 0, 0, 0, 0, 0, 0, 0, 0, 0, 0, 0, 0, 0, 1, 0, 0, 0, 0, 0, 0,\n",
              "       0, 0, 1, 0, 1, 1, 1, 1, 1, 0, 0, 1, 0, 0, 1, 1, 1, 1, 0, 1, 0, 0,\n",
              "       1, 1, 1, 1, 0, 1, 0, 0, 1, 0, 1, 0, 0, 1, 1, 1, 0, 0, 1, 0, 0, 0,\n",
              "       1, 1, 1, 0, 1, 1, 0, 0, 1, 1, 1, 0, 0, 1, 1, 1, 1, 0, 1, 1, 0, 1,\n",
              "       1, 1, 1, 1, 1, 1, 1, 0, 0, 0, 1, 0, 0, 1, 1, 1, 0, 0, 1, 0, 1, 0,\n",
              "       0, 1, 0, 0, 1, 1, 0, 1, 1, 0, 1, 1, 1, 1, 0, 1, 1, 1, 1, 1, 1, 1,\n",
              "       1, 1, 0, 1, 1, 1, 1, 0, 0, 1, 0, 1, 1, 0, 0, 1, 1, 0, 0, 1, 1, 1,\n",
              "       1, 0, 1, 1, 0, 0, 0, 1, 0, 1, 0, 1, 1, 1, 0, 1, 1, 0, 0, 1, 0, 0,\n",
              "       0, 0, 1, 0, 0, 0, 1, 0, 1, 0, 1, 1, 0, 1, 0, 0, 0, 0, 1, 1, 0, 0,\n",
              "       1, 1, 1, 0, 1, 1, 1, 1, 1, 0, 0, 1, 1, 0, 1, 1, 0, 0, 1, 0, 1, 1,\n",
              "       1, 1, 0, 1, 1, 1, 1, 1, 0, 1, 0, 0, 0, 0, 0, 0, 0, 0, 0, 0, 0, 0,\n",
              "       0, 0, 1, 1, 1, 1, 1, 1, 0, 1, 0, 1, 1, 0, 1, 1, 0, 1, 0, 0, 1, 1,\n",
              "       1, 1, 1, 1, 1, 1, 1, 1, 1, 1, 1, 0, 1, 1, 0, 1, 0, 1, 1, 1, 1, 1,\n",
              "       1, 1, 1, 1, 1, 1, 1, 1, 1, 0, 1, 1, 1, 0, 1, 0, 1, 1, 1, 1, 0, 0,\n",
              "       0, 1, 1, 1, 1, 0, 1, 0, 1, 0, 1, 1, 1, 0, 1, 1, 1, 1, 1, 1, 1, 0,\n",
              "       0, 0, 1, 1, 1, 1, 1, 1, 1, 1, 1, 1, 1, 0, 0, 1, 0, 0, 0, 1, 0, 0,\n",
              "       1, 1, 1, 1, 1, 0, 1, 1, 1, 1, 1, 0, 1, 1, 1, 0, 1, 1, 0, 0, 1, 1,\n",
              "       1, 1, 1, 1, 0, 1, 1, 1, 1, 1, 1, 1, 0, 1, 1, 1, 1, 1, 0, 1, 1, 0,\n",
              "       1, 1, 1, 1, 1, 1, 1, 1, 1, 1, 1, 1, 0, 1, 0, 0, 1, 0, 1, 1, 1, 1,\n",
              "       1, 0, 1, 1, 0, 1, 0, 1, 1, 0, 1, 0, 1, 1, 1, 1, 1, 1, 1, 1, 0, 0,\n",
              "       1, 1, 1, 1, 1, 1, 0, 1, 1, 1, 1, 1, 1, 1, 1, 1, 1, 0, 1, 1, 1, 1,\n",
              "       1, 1, 1, 0, 1, 0, 1, 1, 0, 1, 1, 1, 1, 1, 0, 0, 1, 0, 1, 0, 1, 1,\n",
              "       1, 1, 1, 0, 1, 1, 0, 1, 0, 1, 0, 0, 1, 1, 1, 0, 1, 1, 1, 1, 1, 1,\n",
              "       1, 1, 1, 1, 1, 0, 1, 0, 0, 1, 1, 1, 1, 1, 1, 1, 1, 1, 1, 1, 1, 1,\n",
              "       1, 1, 1, 1, 1, 1, 1, 1, 1, 1, 1, 1, 0, 0, 0, 0, 0, 0, 1])"
            ]
          },
          "metadata": {
            "tags": []
          },
          "execution_count": 7
        }
      ]
    },
    {
      "cell_type": "code",
      "metadata": {
        "colab": {
          "base_uri": "https://localhost:8080/"
        },
        "id": "sZ_XMGi-bkYi",
        "outputId": "38877236-1f5b-45f6-a493-a8d71a181c34"
      },
      "source": [
        "data.target_names"
      ],
      "execution_count": 8,
      "outputs": [
        {
          "output_type": "execute_result",
          "data": {
            "text/plain": [
              "array(['malignant', 'benign'], dtype='<U9')"
            ]
          },
          "metadata": {
            "tags": []
          },
          "execution_count": 8
        }
      ]
    },
    {
      "cell_type": "code",
      "metadata": {
        "colab": {
          "base_uri": "https://localhost:8080/"
        },
        "id": "yEnXvmOCbnRG",
        "outputId": "c24e2b18-b289-45ff-bff0-30308cb015ee"
      },
      "source": [
        "data.target.shape"
      ],
      "execution_count": 9,
      "outputs": [
        {
          "output_type": "execute_result",
          "data": {
            "text/plain": [
              "(569,)"
            ]
          },
          "metadata": {
            "tags": []
          },
          "execution_count": 9
        }
      ]
    },
    {
      "cell_type": "code",
      "metadata": {
        "colab": {
          "base_uri": "https://localhost:8080/"
        },
        "id": "nhBupL9Ybqa4",
        "outputId": "b209f8d5-991d-4ee5-a63e-389722974243"
      },
      "source": [
        "data.feature_names"
      ],
      "execution_count": 10,
      "outputs": [
        {
          "output_type": "execute_result",
          "data": {
            "text/plain": [
              "array(['mean radius', 'mean texture', 'mean perimeter', 'mean area',\n",
              "       'mean smoothness', 'mean compactness', 'mean concavity',\n",
              "       'mean concave points', 'mean symmetry', 'mean fractal dimension',\n",
              "       'radius error', 'texture error', 'perimeter error', 'area error',\n",
              "       'smoothness error', 'compactness error', 'concavity error',\n",
              "       'concave points error', 'symmetry error',\n",
              "       'fractal dimension error', 'worst radius', 'worst texture',\n",
              "       'worst perimeter', 'worst area', 'worst smoothness',\n",
              "       'worst compactness', 'worst concavity', 'worst concave points',\n",
              "       'worst symmetry', 'worst fractal dimension'], dtype='<U23')"
            ]
          },
          "metadata": {
            "tags": []
          },
          "execution_count": 10
        }
      ]
    },
    {
      "cell_type": "code",
      "metadata": {
        "id": "lTI7fq6abugG"
      },
      "source": [
        "from sklearn.model_selection import train_test_split\n",
        "\n",
        "# Split the data into train and test sets\n",
        "# This lets us simulate how our model will perform in the 'future'\n",
        "X_train, X_test, y_train, y_test = train_test_split(data.data, data.target, test_size=0.33)\n",
        "N, D = X_train.shape"
      ],
      "execution_count": 11,
      "outputs": []
    },
    {
      "cell_type": "code",
      "metadata": {
        "id": "YCxYd1l8b4Jb"
      },
      "source": [
        "from sklearn.preprocessing import StandardScaler\n",
        "\n",
        "scaler = StandardScaler()\n",
        "X_train = scaler.fit_transform(X_train)\n",
        "X_test = scaler.transform(X_test)"
      ],
      "execution_count": 12,
      "outputs": []
    },
    {
      "cell_type": "code",
      "metadata": {
        "colab": {
          "base_uri": "https://localhost:8080/"
        },
        "id": "Pm2xqiBwb8VU",
        "outputId": "d29f76d6-dd78-4644-986f-debee6c120dc"
      },
      "source": [
        "# Building the model\n",
        "\n",
        "model = tf.keras.models.Sequential([\n",
        "  tf.keras.layers.Input(shape=(D,)),\n",
        "  tf.keras.layers.Dense(1, activation='sigmoid')\n",
        "])\n",
        "\n",
        "# Alternatively, we can do:\n",
        "# model = tf.keras.models.Sequential()\n",
        "# model.add(tf.keras.layers.Dense(1, input_shape=(D,), activation='sigmoid'))\n",
        "\n",
        "model.compile(optimizer='adam',\n",
        "              loss='binary_crossentropy',\n",
        "              metrics=['accuracy'])\n",
        "\n",
        "\n",
        "# Training the model\n",
        "r = model.fit(X_train, y_train, validation_data=(X_test, y_test), epochs=100)\n",
        "\n",
        "\n",
        "# Evaluating the model - evaluate() returns loss and accuracy\n",
        "print(\"Train score:\", model.evaluate(X_train, y_train))\n",
        "print(\"Test score:\", model.evaluate(X_test, y_test))"
      ],
      "execution_count": 13,
      "outputs": [
        {
          "output_type": "stream",
          "text": [
            "Epoch 1/100\n",
            "12/12 [==============================] - 1s 45ms/step - loss: 1.2696 - accuracy: 0.2738 - val_loss: 1.1735 - val_accuracy: 0.2713\n",
            "Epoch 2/100\n",
            "12/12 [==============================] - 0s 5ms/step - loss: 1.1084 - accuracy: 0.3338 - val_loss: 1.0671 - val_accuracy: 0.3245\n",
            "Epoch 3/100\n",
            "12/12 [==============================] - 0s 4ms/step - loss: 1.0369 - accuracy: 0.3516 - val_loss: 0.9682 - val_accuracy: 0.3457\n",
            "Epoch 4/100\n",
            "12/12 [==============================] - 0s 5ms/step - loss: 0.9314 - accuracy: 0.4213 - val_loss: 0.8805 - val_accuracy: 0.4096\n",
            "Epoch 5/100\n",
            "12/12 [==============================] - 0s 5ms/step - loss: 0.8372 - accuracy: 0.4717 - val_loss: 0.8022 - val_accuracy: 0.4947\n",
            "Epoch 6/100\n",
            "12/12 [==============================] - 0s 5ms/step - loss: 0.7789 - accuracy: 0.5042 - val_loss: 0.7334 - val_accuracy: 0.5585\n",
            "Epoch 7/100\n",
            "12/12 [==============================] - 0s 5ms/step - loss: 0.7239 - accuracy: 0.5929 - val_loss: 0.6756 - val_accuracy: 0.6330\n",
            "Epoch 8/100\n",
            "12/12 [==============================] - 0s 5ms/step - loss: 0.6635 - accuracy: 0.6495 - val_loss: 0.6243 - val_accuracy: 0.6809\n",
            "Epoch 9/100\n",
            "12/12 [==============================] - 0s 6ms/step - loss: 0.6031 - accuracy: 0.6983 - val_loss: 0.5806 - val_accuracy: 0.7234\n",
            "Epoch 10/100\n",
            "12/12 [==============================] - 0s 5ms/step - loss: 0.5879 - accuracy: 0.7388 - val_loss: 0.5432 - val_accuracy: 0.7713\n",
            "Epoch 11/100\n",
            "12/12 [==============================] - 0s 5ms/step - loss: 0.5602 - accuracy: 0.7518 - val_loss: 0.5107 - val_accuracy: 0.7872\n",
            "Epoch 12/100\n",
            "12/12 [==============================] - 0s 5ms/step - loss: 0.5351 - accuracy: 0.7685 - val_loss: 0.4821 - val_accuracy: 0.7979\n",
            "Epoch 13/100\n",
            "12/12 [==============================] - 0s 4ms/step - loss: 0.4963 - accuracy: 0.8128 - val_loss: 0.4575 - val_accuracy: 0.8298\n",
            "Epoch 14/100\n",
            "12/12 [==============================] - 0s 5ms/step - loss: 0.4740 - accuracy: 0.8188 - val_loss: 0.4353 - val_accuracy: 0.8457\n",
            "Epoch 15/100\n",
            "12/12 [==============================] - 0s 5ms/step - loss: 0.4656 - accuracy: 0.8524 - val_loss: 0.4155 - val_accuracy: 0.8564\n",
            "Epoch 16/100\n",
            "12/12 [==============================] - 0s 5ms/step - loss: 0.4146 - accuracy: 0.8614 - val_loss: 0.3979 - val_accuracy: 0.8670\n",
            "Epoch 17/100\n",
            "12/12 [==============================] - 0s 5ms/step - loss: 0.4701 - accuracy: 0.8586 - val_loss: 0.3823 - val_accuracy: 0.8777\n",
            "Epoch 18/100\n",
            "12/12 [==============================] - 0s 5ms/step - loss: 0.4475 - accuracy: 0.8568 - val_loss: 0.3679 - val_accuracy: 0.8830\n",
            "Epoch 19/100\n",
            "12/12 [==============================] - 0s 5ms/step - loss: 0.3763 - accuracy: 0.8788 - val_loss: 0.3552 - val_accuracy: 0.8830\n",
            "Epoch 20/100\n",
            "12/12 [==============================] - 0s 4ms/step - loss: 0.3904 - accuracy: 0.8809 - val_loss: 0.3429 - val_accuracy: 0.8936\n",
            "Epoch 21/100\n",
            "12/12 [==============================] - 0s 5ms/step - loss: 0.3363 - accuracy: 0.9173 - val_loss: 0.3318 - val_accuracy: 0.8936\n",
            "Epoch 22/100\n",
            "12/12 [==============================] - 0s 5ms/step - loss: 0.3949 - accuracy: 0.8764 - val_loss: 0.3213 - val_accuracy: 0.9096\n",
            "Epoch 23/100\n",
            "12/12 [==============================] - 0s 5ms/step - loss: 0.3558 - accuracy: 0.8693 - val_loss: 0.3116 - val_accuracy: 0.9096\n",
            "Epoch 24/100\n",
            "12/12 [==============================] - 0s 5ms/step - loss: 0.3916 - accuracy: 0.8907 - val_loss: 0.3025 - val_accuracy: 0.9096\n",
            "Epoch 25/100\n",
            "12/12 [==============================] - 0s 5ms/step - loss: 0.3099 - accuracy: 0.9111 - val_loss: 0.2942 - val_accuracy: 0.9202\n",
            "Epoch 26/100\n",
            "12/12 [==============================] - 0s 5ms/step - loss: 0.2826 - accuracy: 0.9207 - val_loss: 0.2864 - val_accuracy: 0.9255\n",
            "Epoch 27/100\n",
            "12/12 [==============================] - 0s 5ms/step - loss: 0.2961 - accuracy: 0.9277 - val_loss: 0.2791 - val_accuracy: 0.9255\n",
            "Epoch 28/100\n",
            "12/12 [==============================] - 0s 5ms/step - loss: 0.2907 - accuracy: 0.9253 - val_loss: 0.2719 - val_accuracy: 0.9255\n",
            "Epoch 29/100\n",
            "12/12 [==============================] - 0s 5ms/step - loss: 0.3125 - accuracy: 0.9349 - val_loss: 0.2652 - val_accuracy: 0.9255\n",
            "Epoch 30/100\n",
            "12/12 [==============================] - 0s 5ms/step - loss: 0.2812 - accuracy: 0.9389 - val_loss: 0.2589 - val_accuracy: 0.9255\n",
            "Epoch 31/100\n",
            "12/12 [==============================] - 0s 5ms/step - loss: 0.2610 - accuracy: 0.9583 - val_loss: 0.2531 - val_accuracy: 0.9309\n",
            "Epoch 32/100\n",
            "12/12 [==============================] - 0s 4ms/step - loss: 0.2673 - accuracy: 0.9359 - val_loss: 0.2474 - val_accuracy: 0.9309\n",
            "Epoch 33/100\n",
            "12/12 [==============================] - 0s 5ms/step - loss: 0.2389 - accuracy: 0.9572 - val_loss: 0.2421 - val_accuracy: 0.9309\n",
            "Epoch 34/100\n",
            "12/12 [==============================] - 0s 5ms/step - loss: 0.2650 - accuracy: 0.9483 - val_loss: 0.2369 - val_accuracy: 0.9362\n",
            "Epoch 35/100\n",
            "12/12 [==============================] - 0s 6ms/step - loss: 0.2505 - accuracy: 0.9461 - val_loss: 0.2319 - val_accuracy: 0.9362\n",
            "Epoch 36/100\n",
            "12/12 [==============================] - 0s 5ms/step - loss: 0.2398 - accuracy: 0.9511 - val_loss: 0.2272 - val_accuracy: 0.9468\n",
            "Epoch 37/100\n",
            "12/12 [==============================] - 0s 5ms/step - loss: 0.2386 - accuracy: 0.9430 - val_loss: 0.2229 - val_accuracy: 0.9468\n",
            "Epoch 38/100\n",
            "12/12 [==============================] - 0s 5ms/step - loss: 0.2292 - accuracy: 0.9535 - val_loss: 0.2186 - val_accuracy: 0.9468\n",
            "Epoch 39/100\n",
            "12/12 [==============================] - 0s 5ms/step - loss: 0.2296 - accuracy: 0.9581 - val_loss: 0.2146 - val_accuracy: 0.9468\n",
            "Epoch 40/100\n",
            "12/12 [==============================] - 0s 5ms/step - loss: 0.2469 - accuracy: 0.9451 - val_loss: 0.2106 - val_accuracy: 0.9468\n",
            "Epoch 41/100\n",
            "12/12 [==============================] - 0s 5ms/step - loss: 0.2228 - accuracy: 0.9458 - val_loss: 0.2070 - val_accuracy: 0.9521\n",
            "Epoch 42/100\n",
            "12/12 [==============================] - 0s 5ms/step - loss: 0.1884 - accuracy: 0.9707 - val_loss: 0.2034 - val_accuracy: 0.9521\n",
            "Epoch 43/100\n",
            "12/12 [==============================] - 0s 5ms/step - loss: 0.2052 - accuracy: 0.9604 - val_loss: 0.1999 - val_accuracy: 0.9521\n",
            "Epoch 44/100\n",
            "12/12 [==============================] - 0s 5ms/step - loss: 0.2165 - accuracy: 0.9646 - val_loss: 0.1965 - val_accuracy: 0.9521\n",
            "Epoch 45/100\n",
            "12/12 [==============================] - 0s 5ms/step - loss: 0.1915 - accuracy: 0.9636 - val_loss: 0.1933 - val_accuracy: 0.9521\n",
            "Epoch 46/100\n",
            "12/12 [==============================] - 0s 5ms/step - loss: 0.1992 - accuracy: 0.9622 - val_loss: 0.1903 - val_accuracy: 0.9521\n",
            "Epoch 47/100\n",
            "12/12 [==============================] - 0s 5ms/step - loss: 0.1938 - accuracy: 0.9550 - val_loss: 0.1873 - val_accuracy: 0.9521\n",
            "Epoch 48/100\n",
            "12/12 [==============================] - 0s 5ms/step - loss: 0.1935 - accuracy: 0.9532 - val_loss: 0.1845 - val_accuracy: 0.9574\n",
            "Epoch 49/100\n",
            "12/12 [==============================] - 0s 5ms/step - loss: 0.1672 - accuracy: 0.9752 - val_loss: 0.1818 - val_accuracy: 0.9574\n",
            "Epoch 50/100\n",
            "12/12 [==============================] - 0s 5ms/step - loss: 0.1754 - accuracy: 0.9732 - val_loss: 0.1792 - val_accuracy: 0.9574\n",
            "Epoch 51/100\n",
            "12/12 [==============================] - 0s 5ms/step - loss: 0.1966 - accuracy: 0.9451 - val_loss: 0.1766 - val_accuracy: 0.9574\n",
            "Epoch 52/100\n",
            "12/12 [==============================] - 0s 5ms/step - loss: 0.1702 - accuracy: 0.9741 - val_loss: 0.1741 - val_accuracy: 0.9574\n",
            "Epoch 53/100\n",
            "12/12 [==============================] - 0s 6ms/step - loss: 0.1583 - accuracy: 0.9741 - val_loss: 0.1717 - val_accuracy: 0.9574\n",
            "Epoch 54/100\n",
            "12/12 [==============================] - 0s 6ms/step - loss: 0.1721 - accuracy: 0.9778 - val_loss: 0.1694 - val_accuracy: 0.9574\n",
            "Epoch 55/100\n",
            "12/12 [==============================] - 0s 5ms/step - loss: 0.1539 - accuracy: 0.9723 - val_loss: 0.1672 - val_accuracy: 0.9574\n",
            "Epoch 56/100\n",
            "12/12 [==============================] - 0s 5ms/step - loss: 0.1509 - accuracy: 0.9691 - val_loss: 0.1652 - val_accuracy: 0.9574\n",
            "Epoch 57/100\n",
            "12/12 [==============================] - 0s 5ms/step - loss: 0.1715 - accuracy: 0.9646 - val_loss: 0.1630 - val_accuracy: 0.9574\n",
            "Epoch 58/100\n",
            "12/12 [==============================] - 0s 5ms/step - loss: 0.1753 - accuracy: 0.9552 - val_loss: 0.1610 - val_accuracy: 0.9574\n",
            "Epoch 59/100\n",
            "12/12 [==============================] - 0s 5ms/step - loss: 0.1723 - accuracy: 0.9615 - val_loss: 0.1591 - val_accuracy: 0.9574\n",
            "Epoch 60/100\n",
            "12/12 [==============================] - 0s 4ms/step - loss: 0.1518 - accuracy: 0.9723 - val_loss: 0.1574 - val_accuracy: 0.9574\n",
            "Epoch 61/100\n",
            "12/12 [==============================] - 0s 4ms/step - loss: 0.1731 - accuracy: 0.9661 - val_loss: 0.1554 - val_accuracy: 0.9574\n",
            "Epoch 62/100\n",
            "12/12 [==============================] - 0s 4ms/step - loss: 0.1707 - accuracy: 0.9607 - val_loss: 0.1536 - val_accuracy: 0.9574\n",
            "Epoch 63/100\n",
            "12/12 [==============================] - 0s 5ms/step - loss: 0.1400 - accuracy: 0.9775 - val_loss: 0.1521 - val_accuracy: 0.9574\n",
            "Epoch 64/100\n",
            "12/12 [==============================] - 0s 5ms/step - loss: 0.1495 - accuracy: 0.9695 - val_loss: 0.1504 - val_accuracy: 0.9628\n",
            "Epoch 65/100\n",
            "12/12 [==============================] - 0s 5ms/step - loss: 0.1397 - accuracy: 0.9758 - val_loss: 0.1488 - val_accuracy: 0.9628\n",
            "Epoch 66/100\n",
            "12/12 [==============================] - 0s 5ms/step - loss: 0.1617 - accuracy: 0.9648 - val_loss: 0.1473 - val_accuracy: 0.9628\n",
            "Epoch 67/100\n",
            "12/12 [==============================] - 0s 5ms/step - loss: 0.1298 - accuracy: 0.9777 - val_loss: 0.1458 - val_accuracy: 0.9628\n",
            "Epoch 68/100\n",
            "12/12 [==============================] - 0s 4ms/step - loss: 0.1496 - accuracy: 0.9616 - val_loss: 0.1443 - val_accuracy: 0.9628\n",
            "Epoch 69/100\n",
            "12/12 [==============================] - 0s 5ms/step - loss: 0.1610 - accuracy: 0.9716 - val_loss: 0.1429 - val_accuracy: 0.9628\n",
            "Epoch 70/100\n",
            "12/12 [==============================] - 0s 4ms/step - loss: 0.1409 - accuracy: 0.9695 - val_loss: 0.1417 - val_accuracy: 0.9628\n",
            "Epoch 71/100\n",
            "12/12 [==============================] - 0s 5ms/step - loss: 0.1410 - accuracy: 0.9730 - val_loss: 0.1404 - val_accuracy: 0.9628\n",
            "Epoch 72/100\n",
            "12/12 [==============================] - 0s 5ms/step - loss: 0.1533 - accuracy: 0.9633 - val_loss: 0.1392 - val_accuracy: 0.9628\n",
            "Epoch 73/100\n",
            "12/12 [==============================] - 0s 6ms/step - loss: 0.1341 - accuracy: 0.9751 - val_loss: 0.1380 - val_accuracy: 0.9628\n",
            "Epoch 74/100\n",
            "12/12 [==============================] - 0s 5ms/step - loss: 0.1279 - accuracy: 0.9867 - val_loss: 0.1368 - val_accuracy: 0.9628\n",
            "Epoch 75/100\n",
            "12/12 [==============================] - 0s 6ms/step - loss: 0.1236 - accuracy: 0.9750 - val_loss: 0.1356 - val_accuracy: 0.9628\n",
            "Epoch 76/100\n",
            "12/12 [==============================] - 0s 5ms/step - loss: 0.1301 - accuracy: 0.9717 - val_loss: 0.1345 - val_accuracy: 0.9628\n",
            "Epoch 77/100\n",
            "12/12 [==============================] - 0s 5ms/step - loss: 0.1234 - accuracy: 0.9838 - val_loss: 0.1334 - val_accuracy: 0.9628\n",
            "Epoch 78/100\n",
            "12/12 [==============================] - 0s 5ms/step - loss: 0.1159 - accuracy: 0.9794 - val_loss: 0.1323 - val_accuracy: 0.9628\n",
            "Epoch 79/100\n",
            "12/12 [==============================] - 0s 5ms/step - loss: 0.1159 - accuracy: 0.9843 - val_loss: 0.1313 - val_accuracy: 0.9628\n",
            "Epoch 80/100\n",
            "12/12 [==============================] - 0s 5ms/step - loss: 0.1440 - accuracy: 0.9703 - val_loss: 0.1304 - val_accuracy: 0.9628\n",
            "Epoch 81/100\n",
            "12/12 [==============================] - 0s 5ms/step - loss: 0.1370 - accuracy: 0.9689 - val_loss: 0.1294 - val_accuracy: 0.9628\n",
            "Epoch 82/100\n",
            "12/12 [==============================] - 0s 5ms/step - loss: 0.1236 - accuracy: 0.9734 - val_loss: 0.1284 - val_accuracy: 0.9628\n",
            "Epoch 83/100\n",
            "12/12 [==============================] - 0s 5ms/step - loss: 0.1201 - accuracy: 0.9816 - val_loss: 0.1275 - val_accuracy: 0.9628\n",
            "Epoch 84/100\n",
            "12/12 [==============================] - 0s 5ms/step - loss: 0.1271 - accuracy: 0.9734 - val_loss: 0.1267 - val_accuracy: 0.9628\n",
            "Epoch 85/100\n",
            "12/12 [==============================] - 0s 5ms/step - loss: 0.1092 - accuracy: 0.9824 - val_loss: 0.1259 - val_accuracy: 0.9628\n",
            "Epoch 86/100\n",
            "12/12 [==============================] - 0s 5ms/step - loss: 0.1221 - accuracy: 0.9744 - val_loss: 0.1250 - val_accuracy: 0.9628\n",
            "Epoch 87/100\n",
            "12/12 [==============================] - 0s 5ms/step - loss: 0.1203 - accuracy: 0.9769 - val_loss: 0.1242 - val_accuracy: 0.9628\n",
            "Epoch 88/100\n",
            "12/12 [==============================] - 0s 6ms/step - loss: 0.1124 - accuracy: 0.9863 - val_loss: 0.1234 - val_accuracy: 0.9628\n",
            "Epoch 89/100\n",
            "12/12 [==============================] - 0s 6ms/step - loss: 0.1305 - accuracy: 0.9671 - val_loss: 0.1226 - val_accuracy: 0.9628\n",
            "Epoch 90/100\n",
            "12/12 [==============================] - 0s 5ms/step - loss: 0.1150 - accuracy: 0.9803 - val_loss: 0.1219 - val_accuracy: 0.9681\n",
            "Epoch 91/100\n",
            "12/12 [==============================] - 0s 6ms/step - loss: 0.1038 - accuracy: 0.9783 - val_loss: 0.1212 - val_accuracy: 0.9681\n",
            "Epoch 92/100\n",
            "12/12 [==============================] - 0s 5ms/step - loss: 0.1085 - accuracy: 0.9836 - val_loss: 0.1205 - val_accuracy: 0.9681\n",
            "Epoch 93/100\n",
            "12/12 [==============================] - 0s 5ms/step - loss: 0.1198 - accuracy: 0.9791 - val_loss: 0.1198 - val_accuracy: 0.9681\n",
            "Epoch 94/100\n",
            "12/12 [==============================] - 0s 5ms/step - loss: 0.1070 - accuracy: 0.9852 - val_loss: 0.1191 - val_accuracy: 0.9681\n",
            "Epoch 95/100\n",
            "12/12 [==============================] - 0s 5ms/step - loss: 0.1000 - accuracy: 0.9837 - val_loss: 0.1184 - val_accuracy: 0.9681\n",
            "Epoch 96/100\n",
            "12/12 [==============================] - 0s 5ms/step - loss: 0.1112 - accuracy: 0.9825 - val_loss: 0.1177 - val_accuracy: 0.9681\n",
            "Epoch 97/100\n",
            "12/12 [==============================] - 0s 5ms/step - loss: 0.0953 - accuracy: 0.9802 - val_loss: 0.1171 - val_accuracy: 0.9681\n",
            "Epoch 98/100\n",
            "12/12 [==============================] - 0s 5ms/step - loss: 0.0954 - accuracy: 0.9846 - val_loss: 0.1165 - val_accuracy: 0.9681\n",
            "Epoch 99/100\n",
            "12/12 [==============================] - 0s 5ms/step - loss: 0.1050 - accuracy: 0.9786 - val_loss: 0.1159 - val_accuracy: 0.9681\n",
            "Epoch 100/100\n",
            "12/12 [==============================] - 0s 5ms/step - loss: 0.1000 - accuracy: 0.9879 - val_loss: 0.1153 - val_accuracy: 0.9681\n",
            "12/12 [==============================] - 0s 1ms/step - loss: 0.1071 - accuracy: 0.9816\n",
            "Train score: [0.10709413141012192, 0.9816272854804993]\n",
            "6/6 [==============================] - 0s 3ms/step - loss: 0.1153 - accuracy: 0.9681\n",
            "Test score: [0.11527249962091446, 0.9680851101875305]\n"
          ],
          "name": "stdout"
        }
      ]
    },
    {
      "cell_type": "code",
      "metadata": {
        "colab": {
          "base_uri": "https://localhost:8080/",
          "height": 282
        },
        "id": "lfhCbrLMcHR-",
        "outputId": "6d186ca4-8d2b-4fe0-d81a-a8b269167d50"
      },
      "source": [
        "import matplotlib.pyplot as plt\n",
        "plt.plot(r.history['loss'], label='loss')\n",
        "plt.plot(r.history['val_loss'], label='val_loss')\n",
        "plt.legend()"
      ],
      "execution_count": 14,
      "outputs": [
        {
          "output_type": "execute_result",
          "data": {
            "text/plain": [
              "<matplotlib.legend.Legend at 0x7efb9bfd1d10>"
            ]
          },
          "metadata": {
            "tags": []
          },
          "execution_count": 14
        },
        {
          "output_type": "display_data",
          "data": {
            "image/png": "[encoded data removed]",
            "text/plain": [
              "<Figure size 432x288 with 1 Axes>"
            ]
          },
          "metadata": {
            "tags": [],
            "needs_background": "light"
          }
        }
      ]
    },
    {
      "cell_type": "code",
      "metadata": {
        "colab": {
          "base_uri": "https://localhost:8080/",
          "height": 282
        },
        "id": "p_SgYMRRcLZO",
        "outputId": "fcca7b9c-972d-4b47-c3fb-5916c2b5d236"
      },
      "source": [
        "# Plotting the accuracy\n",
        "plt.plot(r.history['accuracy'], label='acc')\n",
        "plt.plot(r.history['val_accuracy'], label='val_acc')\n",
        "plt.legend()"
      ],
      "execution_count": 15,
      "outputs": [
        {
          "output_type": "execute_result",
          "data": {
            "text/plain": [
              "<matplotlib.legend.Legend at 0x7efb9bac6d50>"
            ]
          },
          "metadata": {
            "tags": []
          },
          "execution_count": 15
        },
        {
          "output_type": "display_data",
          "data": {
            "image/png": "[encoded data removed]",
            "text/plain": [
              "<Figure size 432x288 with 1 Axes>"
            ]
          },
          "metadata": {
            "tags": [],
            "needs_background": "light"
          }
        }
      ]
    },
    {
      "cell_type": "code",
      "metadata": {
        "colab": {
          "base_uri": "https://localhost:8080/"
        },
        "id": "v-1R0JcVcTXK",
        "outputId": "ff06c37d-dac9-4652-e06f-906995a2b086"
      },
      "source": [
        "# Making predictions\n",
        "P = model.predict(X_test)\n",
        "print(P) # Here, What we get are outputs of the sigmoid, interpreted as probabilities p(y = 1 | x)"
      ],
      "execution_count": 16,
      "outputs": [
        {
          "output_type": "stream",
          "text": [
            "[[9.53187823e-01]\n",
            " [9.86652613e-01]\n",
            " [8.58699083e-02]\n",
            " [9.84763682e-01]\n",
            " [3.00875604e-02]\n",
            " [2.56917477e-02]\n",
            " [7.28461802e-01]\n",
            " [4.98047352e-01]\n",
            " [9.43441451e-01]\n",
            " [2.45309472e-02]\n",
            " [6.00641433e-05]\n",
            " [5.38811088e-03]\n",
            " [9.93696928e-01]\n",
            " [9.14688945e-01]\n",
            " [9.94160414e-01]\n",
            " [9.88891482e-01]\n",
            " [9.98871207e-01]\n",
            " [3.69161367e-04]\n",
            " [4.93405759e-01]\n",
            " [2.73346901e-04]\n",
            " [5.22974074e-01]\n",
            " [3.51804793e-01]\n",
            " [9.92235661e-01]\n",
            " [1.10685825e-03]\n",
            " [9.83672261e-01]\n",
            " [6.09129667e-04]\n",
            " [9.61722732e-01]\n",
            " [1.89148188e-02]\n",
            " [8.94082844e-01]\n",
            " [1.45348340e-01]\n",
            " [1.94588751e-01]\n",
            " [1.11657977e-02]\n",
            " [2.24618435e-01]\n",
            " [1.10876858e-02]\n",
            " [9.97832656e-01]\n",
            " [9.93163228e-01]\n",
            " [2.76329517e-01]\n",
            " [9.76685524e-01]\n",
            " [9.62359428e-01]\n",
            " [9.92346048e-01]\n",
            " [9.80777204e-01]\n",
            " [9.68241692e-03]\n",
            " [9.98133302e-01]\n",
            " [2.42975354e-03]\n",
            " [8.81082058e-01]\n",
            " [9.90820765e-01]\n",
            " [9.65579629e-01]\n",
            " [9.65661526e-01]\n",
            " [9.22176123e-01]\n",
            " [9.34541702e-01]\n",
            " [9.75659013e-01]\n",
            " [7.81883864e-05]\n",
            " [5.81830740e-04]\n",
            " [3.60629380e-01]\n",
            " [1.01509064e-01]\n",
            " [6.68526888e-01]\n",
            " [7.18016872e-06]\n",
            " [9.96330619e-01]\n",
            " [1.67152123e-07]\n",
            " [3.62521410e-03]\n",
            " [3.47484946e-02]\n",
            " [2.08249688e-03]\n",
            " [7.44670630e-04]\n",
            " [4.78124559e-01]\n",
            " [7.37235367e-01]\n",
            " [5.41568995e-02]\n",
            " [2.38057971e-03]\n",
            " [7.79950619e-03]\n",
            " [9.88051176e-01]\n",
            " [9.87686038e-01]\n",
            " [9.96940553e-01]\n",
            " [9.91152406e-01]\n",
            " [2.04089284e-03]\n",
            " [2.40862370e-04]\n",
            " [9.06179368e-01]\n",
            " [8.81304622e-01]\n",
            " [1.44910574e-01]\n",
            " [7.84883022e-01]\n",
            " [9.83930945e-01]\n",
            " [9.82181609e-01]\n",
            " [9.99250293e-01]\n",
            " [9.27476943e-01]\n",
            " [9.57171559e-01]\n",
            " [9.17246461e-01]\n",
            " [9.65546966e-01]\n",
            " [6.01933599e-02]\n",
            " [9.79650855e-01]\n",
            " [9.93833899e-01]\n",
            " [8.30005765e-01]\n",
            " [9.85878587e-01]\n",
            " [8.49429607e-01]\n",
            " [2.72443891e-03]\n",
            " [1.18626893e-01]\n",
            " [9.96963203e-01]\n",
            " [9.80557799e-01]\n",
            " [9.62301731e-01]\n",
            " [2.09653676e-02]\n",
            " [4.53767180e-03]\n",
            " [9.89162326e-01]\n",
            " [7.41391122e-01]\n",
            " [8.73424113e-02]\n",
            " [1.63527429e-02]\n",
            " [9.16385770e-01]\n",
            " [9.63457882e-01]\n",
            " [6.36359692e-01]\n",
            " [9.98660207e-01]\n",
            " [6.00158691e-01]\n",
            " [2.51792608e-05]\n",
            " [9.59460378e-01]\n",
            " [9.41485643e-01]\n",
            " [9.61355090e-01]\n",
            " [9.80258048e-01]\n",
            " [9.95650291e-01]\n",
            " [9.69383240e-01]\n",
            " [5.51098585e-03]\n",
            " [9.95630503e-01]\n",
            " [1.26452088e-01]\n",
            " [7.84124851e-01]\n",
            " [9.91930068e-01]\n",
            " [2.27057278e-01]\n",
            " [6.80061221e-01]\n",
            " [9.99965191e-01]\n",
            " [8.12573552e-01]\n",
            " [5.22041917e-01]\n",
            " [7.62268305e-01]\n",
            " [9.98930931e-01]\n",
            " [9.91362453e-01]\n",
            " [7.83622742e-01]\n",
            " [5.80535233e-01]\n",
            " [9.49660659e-01]\n",
            " [8.36303413e-01]\n",
            " [9.88518119e-01]\n",
            " [9.95918751e-01]\n",
            " [1.13382250e-01]\n",
            " [9.68339443e-01]\n",
            " [7.27473140e-01]\n",
            " [3.84655297e-02]\n",
            " [9.92397547e-01]\n",
            " [9.42384422e-01]\n",
            " [1.21681392e-02]\n",
            " [1.78675354e-02]\n",
            " [8.36000562e-01]\n",
            " [9.54282343e-01]\n",
            " [9.90486622e-01]\n",
            " [5.76287508e-04]\n",
            " [9.78812575e-03]\n",
            " [1.35699856e-05]\n",
            " [9.78208065e-01]\n",
            " [4.87123519e-01]\n",
            " [8.75127435e-01]\n",
            " [9.65065718e-01]\n",
            " [1.27831101e-03]\n",
            " [8.12885880e-01]\n",
            " [9.68496799e-01]\n",
            " [1.36941373e-02]\n",
            " [3.74885678e-01]\n",
            " [4.48025894e-05]\n",
            " [3.21563184e-02]\n",
            " [9.97224212e-01]\n",
            " [8.91416073e-01]\n",
            " [9.67277944e-01]\n",
            " [9.86501932e-01]\n",
            " [2.33279288e-01]\n",
            " [9.79810119e-01]\n",
            " [8.70903432e-01]\n",
            " [9.99061942e-01]\n",
            " [9.97152627e-01]\n",
            " [1.95927203e-01]\n",
            " [2.54869610e-01]\n",
            " [9.72527742e-01]\n",
            " [9.66523468e-01]\n",
            " [9.18475389e-01]\n",
            " [7.54239261e-02]\n",
            " [4.34786081e-04]\n",
            " [9.94869232e-01]\n",
            " [1.26907229e-03]\n",
            " [9.69354630e-01]\n",
            " [8.19410443e-01]\n",
            " [8.19922864e-01]\n",
            " [9.42725062e-01]\n",
            " [3.25351954e-04]\n",
            " [9.92440701e-01]\n",
            " [2.27299333e-03]\n",
            " [9.82638180e-01]\n",
            " [7.15004504e-01]\n",
            " [9.67886925e-01]\n",
            " [9.96477962e-01]\n",
            " [5.01817465e-03]]\n"
          ],
          "name": "stdout"
        }
      ]
    },
    {
      "cell_type": "code",
      "metadata": {
        "colab": {
          "base_uri": "https://localhost:8080/"
        },
        "id": "7vU_7Bt5ceo9",
        "outputId": "70a87fc8-4ce7-411c-df2d-b30ddc7a9b8f"
      },
      "source": [
        "# Rounding to get the actual predictions\n",
        "# Note: We have to flatten since the targets are size (N,) while the predictions are size (N,1)\n",
        "import numpy as np\n",
        "P = np.round(P).flatten()\n",
        "print(P)"
      ],
      "execution_count": 18,
      "outputs": [
        {
          "output_type": "stream",
          "text": [
            "[1. 1. 0. 1. 0. 0. 1. 0. 1. 0. 0. 0. 1. 1. 1. 1. 1. 0. 0. 0. 1. 0. 1. 0.\n",
            " 1. 0. 1. 0. 1. 0. 0. 0. 0. 0. 1. 1. 0. 1. 1. 1. 1. 0. 1. 0. 1. 1. 1. 1.\n",
            " 1. 1. 1. 0. 0. 0. 0. 1. 0. 1. 0. 0. 0. 0. 0. 0. 1. 0. 0. 0. 1. 1. 1. 1.\n",
            " 0. 0. 1. 1. 0. 1. 1. 1. 1. 1. 1. 1. 1. 0. 1. 1. 1. 1. 1. 0. 0. 1. 1. 1.\n",
            " 0. 0. 1. 1. 0. 0. 1. 1. 1. 1. 1. 0. 1. 1. 1. 1. 1. 1. 0. 1. 0. 1. 1. 0.\n",
            " 1. 1. 1. 1. 1. 1. 1. 1. 1. 1. 1. 1. 1. 0. 1. 1. 0. 1. 1. 0. 0. 1. 1. 1.\n",
            " 0. 0. 0. 1. 0. 1. 1. 0. 1. 1. 0. 0. 0. 0. 1. 1. 1. 1. 0. 1. 1. 1. 1. 0.\n",
            " 0. 1. 1. 1. 0. 0. 1. 0. 1. 1. 1. 1. 0. 1. 0. 1. 1. 1. 1. 0.]\n"
          ],
          "name": "stdout"
        }
      ]
    },
    {
      "cell_type": "code",
      "metadata": {
        "colab": {
          "base_uri": "https://localhost:8080/"
        },
        "id": "pgIXc_1mcpgs",
        "outputId": "ee95ef0b-211c-48ba-8d4a-0111c7d651bb"
      },
      "source": [
        "# Calculate the accuracy, and then compare it to evaluate() output\n",
        "print(\"Manually calculated accuracy:\", np.mean(P == y_test))\n",
        "print(\"Evaluate output:\", model.evaluate(X_test, y_test))"
      ],
      "execution_count": 19,
      "outputs": [
        {
          "output_type": "stream",
          "text": [
            "Manually calculated accuracy: 0.9680851063829787\n",
            "6/6 [==============================] - 0s 2ms/step - loss: 0.1153 - accuracy: 0.9681\n",
            "Evaluate output: [0.11527249962091446, 0.9680851101875305]\n"
          ],
          "name": "stdout"
        }
      ]
    },
    {
      "cell_type": "code",
      "metadata": {
        "id": "DkIttbHRcx6f"
      },
      "source": [
        "# Let's now save our model to a file\n",
        "model.save('Linear_Classifier.h5')"
      ],
      "execution_count": 20,
      "outputs": []
    },
    {
      "cell_type": "code",
      "metadata": {
        "colab": {
          "base_uri": "https://localhost:8080/"
        },
        "id": "J2D0li32c5rX",
        "outputId": "8a53e7c4-efbf-4691-900c-8fe5e08e4d37"
      },
      "source": [
        "# Checking if that model file exists\n",
        "!ls -lh"
      ],
      "execution_count": 21,
      "outputs": [
        {
          "output_type": "stream",
          "text": [
            "total 24K\n",
            "-rw-r--r-- 1 root root  19K May 19 21:06 Linear_Classifier.h5\n",
            "drwxr-xr-x 1 root root 4.0K May  6 13:44 sample_data\n"
          ],
          "name": "stdout"
        }
      ]
    },
    {
      "cell_type": "code",
      "metadata": {
        "colab": {
          "base_uri": "https://localhost:8080/"
        },
        "id": "KlxK81GddBeI",
        "outputId": "30f8ff5a-3d48-4714-95c7-f09b22d38735"
      },
      "source": [
        "# Let's load the model and confirm that it still works\n",
        "# Note: there is a bug in Keras where load/save only works if you DON'T use the Input() layer explicitly\n",
        "# So, make sure you define the model with ONLY Dense(1, input_shape=(D,))\n",
        "# At least, until the bug is fixed\n",
        "model = tf.keras.models.load_model('Linear_Classifier.h5')\n",
        "print(model.layers)\n",
        "model.evaluate(X_test, y_test)"
      ],
      "execution_count": 22,
      "outputs": [
        {
          "output_type": "stream",
          "text": [
            "[<tensorflow.python.keras.layers.core.Dense object at 0x7efb9d05da10>]\n",
            "6/6 [==============================] - 0s 2ms/step - loss: 0.1153 - accuracy: 0.9681\n"
          ],
          "name": "stdout"
        },
        {
          "output_type": "execute_result",
          "data": {
            "text/plain": [
              "[0.11527249962091446, 0.9680851101875305]"
            ]
          },
          "metadata": {
            "tags": []
          },
          "execution_count": 22
        }
      ]
    },
    {
      "cell_type": "code",
      "metadata": {
        "colab": {
          "base_uri": "https://localhost:8080/",
          "height": 17
        },
        "id": "JuJSP_hYdK5_",
        "outputId": "24b7fb68-249b-4160-81fe-7dedfd2ca175"
      },
      "source": [
        "# Download the file \n",
        "from google.colab import files\n",
        "files.download('Linear_Classifier.h5')"
      ],
      "execution_count": 23,
      "outputs": [
        {
          "output_type": "display_data",
          "data": {
            "application/javascript": [
              "\n",
              "    async function download(id, filename, size) {\n",
              "      if (!google.colab.kernel.accessAllowed) {\n",
              "        return;\n",
              "      }\n",
              "      const div = document.createElement('div');\n",
              "      const label = document.createElement('label');\n",
              "      label.textContent = `Downloading \"${filename}\": `;\n",
              "      div.appendChild(label);\n",
              "      const progress = document.createElement('progress');\n",
              "      progress.max = size;\n",
              "      div.appendChild(progress);\n",
              "      document.body.appendChild(div);\n",
              "\n",
              "      const buffers = [];\n",
              "      let downloaded = 0;\n",
              "\n",
              "      const channel = await google.colab.kernel.comms.open(id);\n",
              "      // Send a message to notify the kernel that we're ready.\n",
              "      channel.send({})\n",
              "\n",
              "      for await (const message of channel.messages) {\n",
              "        // Send a message to notify the kernel that we're ready.\n",
              "        channel.send({})\n",
              "        if (message.buffers) {\n",
              "          for (const buffer of message.buffers) {\n",
              "            buffers.push(buffer);\n",
              "            downloaded += buffer.byteLength;\n",
              "            progress.value = downloaded;\n",
              "          }\n",
              "        }\n",
              "      }\n",
              "      const blob = new Blob(buffers, {type: 'application/binary'});\n",
              "      const a = document.createElement('a');\n",
              "      a.href = window.URL.createObjectURL(blob);\n",
              "      a.download = filename;\n",
              "      div.appendChild(a);\n",
              "      a.click();\n",
              "      div.remove();\n",
              "    }\n",
              "  "
            ],
            "text/plain": [
              "<IPython.core.display.Javascript object>"
            ]
          },
          "metadata": {
            "tags": []
          }
        },
        {
          "output_type": "display_data",
          "data": {
            "application/javascript": [
              "download(\"download_df7bdb8e-aef0-4a6e-be15-9358bdb4da28\", \"Linear_Classifier.h5\", 18480)"
            ],
            "text/plain": [
              "<IPython.core.display.Javascript object>"
            ]
          },
          "metadata": {
            "tags": []
          }
        }
      ]
    }
  ]
}
